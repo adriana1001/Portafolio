{
 "cells": [
  {
   "cell_type": "code",
   "execution_count": 2,
   "metadata": {},
   "outputs": [],
   "source": [
    "from selenium import webdriver\n",
    "from selenium.webdriver.chrome.service import Service\n",
    "from selenium.webdriver.common.by import By\n",
    "from selenium.webdriver.chrome.options import Options\n",
    "from webdriver_manager.chrome import ChromeDriverManager\n",
    "from selenium.webdriver.support.ui import WebDriverWait\n",
    "from selenium.webdriver.support.ui import Select\n",
    "from selenium.webdriver.support import expected_conditions as EC\n",
    "import pandas as pd\n",
    "import time"
   ]
  },
  {
   "cell_type": "code",
   "execution_count": 3,
   "metadata": {},
   "outputs": [],
   "source": [
    "driver = webdriver.Chrome(service=webdriver.chrome.service.Service(ChromeDriverManager().install()))\n",
    "url='https://infogob.jne.gob.pe/Eleccion'\n",
    "driver.get(url)\n",
    "time.sleep(5)"
   ]
  },
  {
   "cell_type": "markdown",
   "metadata": {},
   "source": [
    "#### First step: Tipo de proceso"
   ]
  },
  {
   "cell_type": "code",
   "execution_count": 5,
   "metadata": {},
   "outputs": [],
   "source": [
    "#Select \"Elecciones presidenciales\" en \"Tipo de proceso\"\n",
    "driver.find_element(By.XPATH, '/html/body/div[1]/section/div[2]/div[2]/div[2]/div[1]/div').click()\n",
    "driver.find_element(By.XPATH, '/html/body/div[1]/section/div[2]/div[2]/div[2]/div[1]/div/div[2]/div[2]').click()"
   ]
  },
  {
   "cell_type": "markdown",
   "metadata": {},
   "source": [
    "#### Second step: Elecciones"
   ]
  },
  {
   "cell_type": "code",
   "execution_count": 6,
   "metadata": {},
   "outputs": [],
   "source": [
    "# Select: Elección\n",
    "driver.find_element(By.XPATH, '/html/body/div[1]/section/div[2]/div[2]/div[2]/div[2]/div').click()\n",
    "\n",
    "# Get all the elections\n",
    "\n",
    "## List of elections\n",
    "elections_list = driver.find_element(By.XPATH, '/html/body/div[1]/section/div[2]/div[2]/div[2]/div[2]/div/div[2]')\n",
    "\n",
    "## Elections\n",
    "elections = [ i for i in elections_list.find_elements(By.TAG_NAME, \"div\") ]\n",
    "\n",
    "# Dictionary of the elections and their drivers\n",
    "dict_elections = { election.text : election for election in elections }"
   ]
  },
  {
   "cell_type": "markdown",
   "metadata": {},
   "source": [
    "#### Dataframe final"
   ]
  },
  {
   "cell_type": "code",
   "execution_count": 7,
   "metadata": {},
   "outputs": [],
   "source": [
    "df_resultados = pd.DataFrame(columns=['ELECCIONES', 'ORGANIZACIÓN POLÍTICA', 'TOTAL VOTOS'])"
   ]
  },
  {
   "cell_type": "markdown",
   "metadata": {},
   "source": [
    "#### Loop to get all the elections' tables"
   ]
  },
  {
   "cell_type": "code",
   "execution_count": 8,
   "metadata": {},
   "outputs": [
    {
     "name": "stderr",
     "output_type": "stream",
     "text": [
      "C:\\Users\\kchauca\\AppData\\Local\\Temp\\ipykernel_27024\\2334740008.py:18: FutureWarning: Passing literal html to 'read_html' is deprecated and will be removed in a future version. To read from a literal string, wrap it in a 'StringIO' object.\n",
      "  table1= pd.read_html(table1_html)[0]\n",
      "C:\\Users\\kchauca\\AppData\\Local\\Temp\\ipykernel_27024\\2334740008.py:18: FutureWarning: Passing literal html to 'read_html' is deprecated and will be removed in a future version. To read from a literal string, wrap it in a 'StringIO' object.\n",
      "  table1= pd.read_html(table1_html)[0]\n",
      "C:\\Users\\kchauca\\AppData\\Local\\Temp\\ipykernel_27024\\2334740008.py:18: FutureWarning: Passing literal html to 'read_html' is deprecated and will be removed in a future version. To read from a literal string, wrap it in a 'StringIO' object.\n",
      "  table1= pd.read_html(table1_html)[0]\n",
      "C:\\Users\\kchauca\\AppData\\Local\\Temp\\ipykernel_27024\\2334740008.py:18: FutureWarning: Passing literal html to 'read_html' is deprecated and will be removed in a future version. To read from a literal string, wrap it in a 'StringIO' object.\n",
      "  table1= pd.read_html(table1_html)[0]\n",
      "C:\\Users\\kchauca\\AppData\\Local\\Temp\\ipykernel_27024\\2334740008.py:18: FutureWarning: Passing literal html to 'read_html' is deprecated and will be removed in a future version. To read from a literal string, wrap it in a 'StringIO' object.\n",
      "  table1= pd.read_html(table1_html)[0]\n",
      "C:\\Users\\kchauca\\AppData\\Local\\Temp\\ipykernel_27024\\2334740008.py:18: FutureWarning: Passing literal html to 'read_html' is deprecated and will be removed in a future version. To read from a literal string, wrap it in a 'StringIO' object.\n",
      "  table1= pd.read_html(table1_html)[0]\n",
      "C:\\Users\\kchauca\\AppData\\Local\\Temp\\ipykernel_27024\\2334740008.py:18: FutureWarning: Passing literal html to 'read_html' is deprecated and will be removed in a future version. To read from a literal string, wrap it in a 'StringIO' object.\n",
      "  table1= pd.read_html(table1_html)[0]\n",
      "C:\\Users\\kchauca\\AppData\\Local\\Temp\\ipykernel_27024\\2334740008.py:18: FutureWarning: Passing literal html to 'read_html' is deprecated and will be removed in a future version. To read from a literal string, wrap it in a 'StringIO' object.\n",
      "  table1= pd.read_html(table1_html)[0]\n",
      "C:\\Users\\kchauca\\AppData\\Local\\Temp\\ipykernel_27024\\2334740008.py:18: FutureWarning: Passing literal html to 'read_html' is deprecated and will be removed in a future version. To read from a literal string, wrap it in a 'StringIO' object.\n",
      "  table1= pd.read_html(table1_html)[0]\n",
      "C:\\Users\\kchauca\\AppData\\Local\\Temp\\ipykernel_27024\\2334740008.py:18: FutureWarning: Passing literal html to 'read_html' is deprecated and will be removed in a future version. To read from a literal string, wrap it in a 'StringIO' object.\n",
      "  table1= pd.read_html(table1_html)[0]\n",
      "C:\\Users\\kchauca\\AppData\\Local\\Temp\\ipykernel_27024\\2334740008.py:18: FutureWarning: Passing literal html to 'read_html' is deprecated and will be removed in a future version. To read from a literal string, wrap it in a 'StringIO' object.\n",
      "  table1= pd.read_html(table1_html)[0]\n",
      "C:\\Users\\kchauca\\AppData\\Local\\Temp\\ipykernel_27024\\2334740008.py:18: FutureWarning: Passing literal html to 'read_html' is deprecated and will be removed in a future version. To read from a literal string, wrap it in a 'StringIO' object.\n",
      "  table1= pd.read_html(table1_html)[0]\n",
      "C:\\Users\\kchauca\\AppData\\Local\\Temp\\ipykernel_27024\\2334740008.py:18: FutureWarning: Passing literal html to 'read_html' is deprecated and will be removed in a future version. To read from a literal string, wrap it in a 'StringIO' object.\n",
      "  table1= pd.read_html(table1_html)[0]\n",
      "C:\\Users\\kchauca\\AppData\\Local\\Temp\\ipykernel_27024\\2334740008.py:18: FutureWarning: Passing literal html to 'read_html' is deprecated and will be removed in a future version. To read from a literal string, wrap it in a 'StringIO' object.\n",
      "  table1= pd.read_html(table1_html)[0]\n",
      "C:\\Users\\kchauca\\AppData\\Local\\Temp\\ipykernel_27024\\2334740008.py:18: FutureWarning: Passing literal html to 'read_html' is deprecated and will be removed in a future version. To read from a literal string, wrap it in a 'StringIO' object.\n",
      "  table1= pd.read_html(table1_html)[0]\n",
      "C:\\Users\\kchauca\\AppData\\Local\\Temp\\ipykernel_27024\\2334740008.py:18: FutureWarning: Passing literal html to 'read_html' is deprecated and will be removed in a future version. To read from a literal string, wrap it in a 'StringIO' object.\n",
      "  table1= pd.read_html(table1_html)[0]\n",
      "C:\\Users\\kchauca\\AppData\\Local\\Temp\\ipykernel_27024\\2334740008.py:18: FutureWarning: Passing literal html to 'read_html' is deprecated and will be removed in a future version. To read from a literal string, wrap it in a 'StringIO' object.\n",
      "  table1= pd.read_html(table1_html)[0]\n",
      "C:\\Users\\kchauca\\AppData\\Local\\Temp\\ipykernel_27024\\2334740008.py:18: FutureWarning: Passing literal html to 'read_html' is deprecated and will be removed in a future version. To read from a literal string, wrap it in a 'StringIO' object.\n",
      "  table1= pd.read_html(table1_html)[0]\n",
      "C:\\Users\\kchauca\\AppData\\Local\\Temp\\ipykernel_27024\\2334740008.py:18: FutureWarning: Passing literal html to 'read_html' is deprecated and will be removed in a future version. To read from a literal string, wrap it in a 'StringIO' object.\n",
      "  table1= pd.read_html(table1_html)[0]\n",
      "C:\\Users\\kchauca\\AppData\\Local\\Temp\\ipykernel_27024\\2334740008.py:18: FutureWarning: Passing literal html to 'read_html' is deprecated and will be removed in a future version. To read from a literal string, wrap it in a 'StringIO' object.\n",
      "  table1= pd.read_html(table1_html)[0]\n",
      "C:\\Users\\kchauca\\AppData\\Local\\Temp\\ipykernel_27024\\2334740008.py:18: FutureWarning: Passing literal html to 'read_html' is deprecated and will be removed in a future version. To read from a literal string, wrap it in a 'StringIO' object.\n",
      "  table1= pd.read_html(table1_html)[0]\n",
      "C:\\Users\\kchauca\\AppData\\Local\\Temp\\ipykernel_27024\\2334740008.py:18: FutureWarning: Passing literal html to 'read_html' is deprecated and will be removed in a future version. To read from a literal string, wrap it in a 'StringIO' object.\n",
      "  table1= pd.read_html(table1_html)[0]\n",
      "C:\\Users\\kchauca\\AppData\\Local\\Temp\\ipykernel_27024\\2334740008.py:18: FutureWarning: Passing literal html to 'read_html' is deprecated and will be removed in a future version. To read from a literal string, wrap it in a 'StringIO' object.\n",
      "  table1= pd.read_html(table1_html)[0]\n",
      "C:\\Users\\kchauca\\AppData\\Local\\Temp\\ipykernel_27024\\2334740008.py:18: FutureWarning: Passing literal html to 'read_html' is deprecated and will be removed in a future version. To read from a literal string, wrap it in a 'StringIO' object.\n",
      "  table1= pd.read_html(table1_html)[0]\n",
      "C:\\Users\\kchauca\\AppData\\Local\\Temp\\ipykernel_27024\\2334740008.py:18: FutureWarning: Passing literal html to 'read_html' is deprecated and will be removed in a future version. To read from a literal string, wrap it in a 'StringIO' object.\n",
      "  table1= pd.read_html(table1_html)[0]\n"
     ]
    }
   ],
   "source": [
    "\n",
    "for x in list(dict_elections.keys())[1:]:\n",
    "    elemento = dict_elections[x]\n",
    "    elemento.click()\n",
    "\n",
    "    # Select the election\n",
    "    boton_ver_datos = WebDriverWait(driver, 3).until(\n",
    "        EC.element_to_be_clickable((By.ID, 'btnVerDatos'))\n",
    "    ).click()\n",
    "    time.sleep(5)\n",
    "    \n",
    "    # Go to the section \"Candidatos y resultados\"\n",
    "    driver.find_element(By.XPATH, '/html/body/div[1]/section/div[2]/div[3]/div[1]/ul/li[2]').click()\n",
    "    time.sleep(5)\n",
    "\n",
    "    # Get the table for each election\n",
    "    table_1= driver.find_element(By.XPATH,'/html/body/div[1]/section/div[2]/div[3]/div[3]/div/div/div/div[1]/div[2]/div[2]/div[2]/table')\n",
    "    table1_html=table_1.get_attribute(\"outerHTML\")\n",
    "    table1= pd.read_html(table1_html)[0]\n",
    "\n",
    "    table1['ELECCIONES'] = x\n",
    "    new_order1 = ['ELECCIONES', 'ORGANIZACIÓN POLÍTICA', 'TOTAL VOTOS']\n",
    "    df1 = table1[new_order1]\n",
    "    \n",
    "    # Concat the new tables in the final dataframe\n",
    "    df_resultados = pd.concat([df_resultados, df1], ignore_index=True)\n",
    "    \n",
    "    # Back to the beginning\n",
    "    driver.back()\n",
    "    time.sleep(5)\n",
    "\n",
    "    driver.back()\n",
    "    time.sleep(5)\n",
    "    \n",
    "    # On the list, to select a new election\n",
    "    driver.find_element(By.XPATH, '/html/body/div[1]/section/div[2]/div[2]/div[2]/div[2]/div').click()\n",
    "    time.sleep(5)\n"
   ]
  },
  {
   "cell_type": "markdown",
   "metadata": {},
   "source": [
    "#### Results"
   ]
  },
  {
   "cell_type": "code",
   "execution_count": 9,
   "metadata": {},
   "outputs": [
    {
     "data": {
      "text/html": [
       "<div>\n",
       "<style scoped>\n",
       "    .dataframe tbody tr th:only-of-type {\n",
       "        vertical-align: middle;\n",
       "    }\n",
       "\n",
       "    .dataframe tbody tr th {\n",
       "        vertical-align: top;\n",
       "    }\n",
       "\n",
       "    .dataframe thead th {\n",
       "        text-align: right;\n",
       "    }\n",
       "</style>\n",
       "<table border=\"1\" class=\"dataframe\">\n",
       "  <thead>\n",
       "    <tr style=\"text-align: right;\">\n",
       "      <th></th>\n",
       "      <th>ELECCIONES</th>\n",
       "      <th>ORGANIZACIÓN POLÍTICA</th>\n",
       "      <th>TOTAL VOTOS</th>\n",
       "    </tr>\n",
       "  </thead>\n",
       "  <tbody>\n",
       "    <tr>\n",
       "      <th>0</th>\n",
       "      <td>PRESIDENCIAL 2021 - 2DA VUELTA</td>\n",
       "      <td>PARTIDO POLITICO NACIONAL PERU LIBRE</td>\n",
       "      <td>8836380</td>\n",
       "    </tr>\n",
       "    <tr>\n",
       "      <th>1</th>\n",
       "      <td>PRESIDENCIAL 2021 - 2DA VUELTA</td>\n",
       "      <td>FUERZA POPULAR</td>\n",
       "      <td>8792117</td>\n",
       "    </tr>\n",
       "    <tr>\n",
       "      <th>2</th>\n",
       "      <td>PRESIDENCIAL 2021 - 2DA VUELTA</td>\n",
       "      <td>VOTOS EN BLANCO</td>\n",
       "      <td>121489</td>\n",
       "    </tr>\n",
       "    <tr>\n",
       "      <th>3</th>\n",
       "      <td>PRESIDENCIAL 2021 - 2DA VUELTA</td>\n",
       "      <td>VOTOS NULOS</td>\n",
       "      <td>1106816</td>\n",
       "    </tr>\n",
       "    <tr>\n",
       "      <th>4</th>\n",
       "      <td>PRESIDENCIAL 2021</td>\n",
       "      <td>PARTIDO POLITICO NACIONAL PERU LIBRE</td>\n",
       "      <td>2724752</td>\n",
       "    </tr>\n",
       "    <tr>\n",
       "      <th>...</th>\n",
       "      <td>...</td>\n",
       "      <td>...</td>\n",
       "      <td>...</td>\n",
       "    </tr>\n",
       "    <tr>\n",
       "      <th>152</th>\n",
       "      <td>PRESIDENCIAL 1936</td>\n",
       "      <td>PARTIDO REPUBLICANO</td>\n",
       "      <td>30803</td>\n",
       "    </tr>\n",
       "    <tr>\n",
       "      <th>153</th>\n",
       "      <td>PRESIDENCIAL 1931</td>\n",
       "      <td>UNION REVOLUCIONARIA</td>\n",
       "      <td>152149</td>\n",
       "    </tr>\n",
       "    <tr>\n",
       "      <th>154</th>\n",
       "      <td>PRESIDENCIAL 1931</td>\n",
       "      <td>PARTIDO APRISTA PERUANO</td>\n",
       "      <td>106088</td>\n",
       "    </tr>\n",
       "    <tr>\n",
       "      <th>155</th>\n",
       "      <td>PRESIDENCIAL 1931</td>\n",
       "      <td>PARTIDO DESCENTRALISTA</td>\n",
       "      <td>21950</td>\n",
       "    </tr>\n",
       "    <tr>\n",
       "      <th>156</th>\n",
       "      <td>PRESIDENCIAL 1931</td>\n",
       "      <td>PARTIDO COALICION NACIONAL</td>\n",
       "      <td>19640</td>\n",
       "    </tr>\n",
       "  </tbody>\n",
       "</table>\n",
       "<p>157 rows × 3 columns</p>\n",
       "</div>"
      ],
      "text/plain": [
       "                         ELECCIONES                 ORGANIZACIÓN POLÍTICA  \\\n",
       "0    PRESIDENCIAL 2021 - 2DA VUELTA  PARTIDO POLITICO NACIONAL PERU LIBRE   \n",
       "1    PRESIDENCIAL 2021 - 2DA VUELTA                        FUERZA POPULAR   \n",
       "2    PRESIDENCIAL 2021 - 2DA VUELTA                       VOTOS EN BLANCO   \n",
       "3    PRESIDENCIAL 2021 - 2DA VUELTA                           VOTOS NULOS   \n",
       "4                 PRESIDENCIAL 2021  PARTIDO POLITICO NACIONAL PERU LIBRE   \n",
       "..                              ...                                   ...   \n",
       "152               PRESIDENCIAL 1936                   PARTIDO REPUBLICANO   \n",
       "153               PRESIDENCIAL 1931                  UNION REVOLUCIONARIA   \n",
       "154               PRESIDENCIAL 1931               PARTIDO APRISTA PERUANO   \n",
       "155               PRESIDENCIAL 1931                PARTIDO DESCENTRALISTA   \n",
       "156               PRESIDENCIAL 1931            PARTIDO COALICION NACIONAL   \n",
       "\n",
       "    TOTAL VOTOS  \n",
       "0       8836380  \n",
       "1       8792117  \n",
       "2        121489  \n",
       "3       1106816  \n",
       "4       2724752  \n",
       "..          ...  \n",
       "152       30803  \n",
       "153      152149  \n",
       "154      106088  \n",
       "155       21950  \n",
       "156       19640  \n",
       "\n",
       "[157 rows x 3 columns]"
      ]
     },
     "execution_count": 9,
     "metadata": {},
     "output_type": "execute_result"
    }
   ],
   "source": [
    "# Verify the final output\n",
    "df_resultados"
   ]
  },
  {
   "cell_type": "code",
   "execution_count": 11,
   "metadata": {},
   "outputs": [
    {
     "name": "stdout",
     "output_type": "stream",
     "text": [
      "All the results of presidential elections are in this file: resultados_elecciones.xlsx\n"
     ]
    }
   ],
   "source": [
    "# Consider\n",
    "file_name = \"resultados_elecciones.xlsx\"\n",
    "sheet = \"Resultados\"\n",
    "\n",
    "# Export the final df\n",
    "df_resultados.to_excel(file_name, sheet_name=sheet, index=False)\n",
    "\n",
    "print(f\"All the results of presidential elections are in this file: {file_name}\")"
   ]
  }
 ],
 "metadata": {
  "kernelspec": {
   "display_name": "Python 3",
   "language": "python",
   "name": "python3"
  },
  "language_info": {
   "codemirror_mode": {
    "name": "ipython",
    "version": 3
   },
   "file_extension": ".py",
   "mimetype": "text/x-python",
   "name": "python",
   "nbconvert_exporter": "python",
   "pygments_lexer": "ipython3",
   "version": "3.11.9"
  }
 },
 "nbformat": 4,
 "nbformat_minor": 2
}
