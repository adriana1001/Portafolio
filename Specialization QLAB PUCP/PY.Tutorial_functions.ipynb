{
 "cells": [
  {
   "cell_type": "code",
   "execution_count": 1,
   "id": "bec223e8",
   "metadata": {},
   "outputs": [],
   "source": [
    "import pandas as pd\n",
    "import pyreadstat as ps"
   ]
  },
  {
   "cell_type": "code",
   "execution_count": 71,
   "id": "930f2e14",
   "metadata": {},
   "outputs": [],
   "source": [
    "path_folder = '../../_data/endes'"
   ]
  },
  {
   "cell_type": "code",
   "execution_count": 78,
   "id": "2332b017",
   "metadata": {},
   "outputs": [],
   "source": [
    "year = 2018"
   ]
  },
  {
   "cell_type": "code",
   "execution_count": 79,
   "id": "b119a45d",
   "metadata": {},
   "outputs": [],
   "source": [
    "file = 'REC0111.sav'"
   ]
  },
  {
   "cell_type": "code",
   "execution_count": 80,
   "id": "250b0e33",
   "metadata": {},
   "outputs": [
    {
     "data": {
      "text/plain": [
       "'../../_data/endes/2018/REC0111.sav'"
      ]
     },
     "execution_count": 80,
     "metadata": {},
     "output_type": "execute_result"
    }
   ],
   "source": [
    "# Define path\n",
    "file_path = f'{path_folder}/{year}/{file}'\n",
    "file_path"
   ]
  },
  {
   "cell_type": "code",
   "execution_count": 81,
   "id": "8c5d40a4",
   "metadata": {},
   "outputs": [],
   "source": [
    "# Import file\n",
    "df, rec = ps.read_sav(file_path)"
   ]
  },
  {
   "cell_type": "code",
   "execution_count": 86,
   "id": "80f1256e",
   "metadata": {},
   "outputs": [],
   "source": [
    "cols_selected = None "
   ]
  },
  {
   "cell_type": "code",
   "execution_count": 97,
   "id": "1b40b72c",
   "metadata": {},
   "outputs": [],
   "source": [
    "a1 = ['asdf']"
   ]
  },
  {
   "cell_type": "code",
   "execution_count": 104,
   "id": "9c3fa880",
   "metadata": {},
   "outputs": [],
   "source": [
    "import numpy as np"
   ]
  },
  {
   "cell_type": "code",
   "execution_count": 133,
   "id": "fa91c786",
   "metadata": {},
   "outputs": [],
   "source": [
    "cols_selected = np.array('sd')"
   ]
  },
  {
   "cell_type": "code",
   "execution_count": 128,
   "id": "6f9eda4f",
   "metadata": {},
   "outputs": [
    {
     "data": {
      "text/plain": [
       "True"
      ]
     },
     "execution_count": 128,
     "metadata": {},
     "output_type": "execute_result"
    }
   ],
   "source": [
    "isinstance(cols_selected, list)"
   ]
  },
  {
   "cell_type": "code",
   "execution_count": 83,
   "id": "e144bf3a",
   "metadata": {},
   "outputs": [
    {
     "name": "stdout",
     "output_type": "stream",
     "text": [
      "Hay alguna columna que no se encuentra en este dataframe.\n",
      "La columna `V007` no está disponible en este dataset.\n"
     ]
    }
   ],
   "source": [
    "try:\n",
    "    df_selected = df.loc[:, list1_sel ].copy()\n",
    "    print(\"Todas las columnas deseadas estan disponibles.\")\n",
    "    \n",
    "except:\n",
    "    print(\"Hay alguna columna que no se encuentra en este dataframe.\")\n",
    "    \n",
    "    # Selection of available columns\n",
    "    columns_sel_clean = []\n",
    "    for col in list1_sel:\n",
    "\n",
    "        # Check if the column is in the list `list_columns_avai`\n",
    "        if col not in list_columns_avai:\n",
    "\n",
    "            # Do not Add this column to `columns_sel_clean`\n",
    "            print( f'La columna `{col}` no está disponible en este dataset.' )\n",
    "\n",
    "        # If it is in `list_columns_avai`, append it to this list `columns_sel_clean`\n",
    "        else:\n",
    "            columns_sel_clean.append( col )\n",
    "            \n",
    "        # Import the columns \n",
    "        df_selected = df.loc[:, columns_sel_clean ].copy()"
   ]
  },
  {
   "cell_type": "code",
   "execution_count": 85,
   "id": "4e621a2e",
   "metadata": {},
   "outputs": [],
   "source": [
    "# Generation of the function"
   ]
  },
  {
   "cell_type": "code",
   "execution_count": 140,
   "id": "3417ccd5",
   "metadata": {},
   "outputs": [],
   "source": [
    "def import_sav_endes( filepath, cols_selected = None ):\n",
    "    \n",
    "    # Import file\n",
    "    df_aux, rec_ux = ps.read_sav( filepath )\n",
    "    \n",
    "    # Check if selection of all columns or a subset of columns\n",
    "    if cols_selected is None:\n",
    "        print( \"Select all columns\")\n",
    "        df_aux_selected = df_aux.copy()\n",
    "\n",
    "    elif isinstance(cols_selected, list):\n",
    "            \n",
    "            print('The input cols_selected is a list')\n",
    "            \n",
    "            try:\n",
    "                df_aux_selected = df_aux.loc[:, cols_selected ].copy()\n",
    "                print(\"Todas las columnas deseadas estan disponibles.\")\n",
    "\n",
    "            except:\n",
    "                print(\"Hay alguna columna que no se encuentra en este dataframe.\")\n",
    "                \n",
    "                # Columns available in dataset\n",
    "                list_columns_avai = df_aux.columns.tolist()\n",
    "                \n",
    "                # Selection of available columns\n",
    "                columns_sel_clean = []\n",
    "                for col in cols_selected:\n",
    "\n",
    "                    # Check if the column is in the list `list_columns_avai`\n",
    "                    if col not in list_columns_avai:\n",
    "\n",
    "                        # Do not Add this column to `columns_sel_clean`\n",
    "                        print( f'La columna `{col}` no está disponible en este dataset.' )\n",
    "\n",
    "                    # If it is in `list_columns_avai`, append it to this list `columns_sel_clean`\n",
    "                    else:\n",
    "                        columns_sel_clean.append( col )\n",
    "\n",
    "                # Import the columns \n",
    "                df_aux_selected = df_aux.loc[:, columns_sel_clean ].copy()\n",
    "\n",
    "    else:\n",
    "        raise TypeError(\"The input `cols_selected` is not a list.\")\n",
    "    \n",
    "    \n",
    "    return( df_aux_selected )"
   ]
  },
  {
   "cell_type": "code",
   "execution_count": null,
   "id": "9dccbbec",
   "metadata": {},
   "outputs": [],
   "source": [
    "list2_sel = [\n",
    "    \"CASEID\", \"V201\", \"V218\", \"V301\", \"V302\", \"V323\", \"V323A\", \"V325A\", \"V326\", \n",
    "    \"V327\", \"V337\", \"V359\", \"V360\", \"V361\", \"V362\", \"V363\", \"V364\", \"V367\", \n",
    "    \"V372\", \"V372A\", \"V375A\", \"V376\", \"V376A\", \"V379\", \"V380\"\n",
    "]\n",
    "\n",
    "\n",
    "list3_sel = [\n",
    "    \"CASEID\", \"V501\", \"V502\", \"V503\", \"V504\", \"V505\", \"V506\", \"V507\", \"V508\", \n",
    "    \"V509\", \"V510\", \"V511\", \"V512\", \"V513\", \"V525\", \"V613\", \"V714\", \"V715\"\n",
    "]"
   ]
  },
  {
   "cell_type": "code",
   "execution_count": 150,
   "id": "c4bfe856",
   "metadata": {},
   "outputs": [],
   "source": [
    "path_folder = '../../_data/endes'\n",
    "\n",
    "year = 2015\n",
    "\n",
    "file = 'REC0111.sav'\n",
    "# Define path\n",
    "file_path1 = f'{path_folder}/{year}/{file}'"
   ]
  },
  {
   "cell_type": "code",
   "execution_count": 160,
   "id": "5307cc30",
   "metadata": {},
   "outputs": [
    {
     "name": "stdout",
     "output_type": "stream",
     "text": [
      "Select all columns\n",
      "Select all columns\n",
      "Select all columns\n",
      "Select all columns\n",
      "Select all columns\n"
     ]
    }
   ],
   "source": [
    "for yr in np.arange(2015,2020):\n",
    "    file_g = f'{path_folder}/{yr}/{file}'\n",
    "    import_sav_endes(file_g)"
   ]
  },
  {
   "cell_type": "code",
   "execution_count": 151,
   "id": "85163dad",
   "metadata": {},
   "outputs": [],
   "source": [
    "list1_sel =  [\"CASEID\", \"V000\", \"V001\", 'v2345']"
   ]
  },
  {
   "cell_type": "code",
   "execution_count": 152,
   "id": "4a4f4920",
   "metadata": {},
   "outputs": [
    {
     "name": "stdout",
     "output_type": "stream",
     "text": [
      "The input cols_selected is a list\n",
      "Hay alguna columna que no se encuentra en este dataframe.\n",
      "La columna `v2345` no está disponible en este dataset.\n"
     ]
    },
    {
     "data": {
      "text/html": [
       "<div>\n",
       "<style scoped>\n",
       "    .dataframe tbody tr th:only-of-type {\n",
       "        vertical-align: middle;\n",
       "    }\n",
       "\n",
       "    .dataframe tbody tr th {\n",
       "        vertical-align: top;\n",
       "    }\n",
       "\n",
       "    .dataframe thead th {\n",
       "        text-align: right;\n",
       "    }\n",
       "</style>\n",
       "<table border=\"1\" class=\"dataframe\">\n",
       "  <thead>\n",
       "    <tr style=\"text-align: right;\">\n",
       "      <th></th>\n",
       "      <th>CASEID</th>\n",
       "      <th>V000</th>\n",
       "      <th>V001</th>\n",
       "    </tr>\n",
       "  </thead>\n",
       "  <tbody>\n",
       "    <tr>\n",
       "      <th>0</th>\n",
       "      <td>000102701  1</td>\n",
       "      <td>PE6</td>\n",
       "      <td>1.0</td>\n",
       "    </tr>\n",
       "    <tr>\n",
       "      <th>1</th>\n",
       "      <td>000104301  1</td>\n",
       "      <td>PE6</td>\n",
       "      <td>1.0</td>\n",
       "    </tr>\n",
       "    <tr>\n",
       "      <th>2</th>\n",
       "      <td>000104801  2</td>\n",
       "      <td>PE6</td>\n",
       "      <td>1.0</td>\n",
       "    </tr>\n",
       "    <tr>\n",
       "      <th>3</th>\n",
       "      <td>000104801  3</td>\n",
       "      <td>PE6</td>\n",
       "      <td>1.0</td>\n",
       "    </tr>\n",
       "    <tr>\n",
       "      <th>4</th>\n",
       "      <td>000105001  3</td>\n",
       "      <td>PE6</td>\n",
       "      <td>1.0</td>\n",
       "    </tr>\n",
       "    <tr>\n",
       "      <th>...</th>\n",
       "      <td>...</td>\n",
       "      <td>...</td>\n",
       "      <td>...</td>\n",
       "    </tr>\n",
       "    <tr>\n",
       "      <th>36650</th>\n",
       "      <td>317503501  2</td>\n",
       "      <td>PE6</td>\n",
       "      <td>3175.0</td>\n",
       "    </tr>\n",
       "    <tr>\n",
       "      <th>36651</th>\n",
       "      <td>317503701  2</td>\n",
       "      <td>PE6</td>\n",
       "      <td>3175.0</td>\n",
       "    </tr>\n",
       "    <tr>\n",
       "      <th>36652</th>\n",
       "      <td>317507601  1</td>\n",
       "      <td>PE6</td>\n",
       "      <td>3175.0</td>\n",
       "    </tr>\n",
       "    <tr>\n",
       "      <th>36653</th>\n",
       "      <td>317507801  2</td>\n",
       "      <td>PE6</td>\n",
       "      <td>3175.0</td>\n",
       "    </tr>\n",
       "    <tr>\n",
       "      <th>36654</th>\n",
       "      <td>317508001  2</td>\n",
       "      <td>PE6</td>\n",
       "      <td>3175.0</td>\n",
       "    </tr>\n",
       "  </tbody>\n",
       "</table>\n",
       "<p>36655 rows × 3 columns</p>\n",
       "</div>"
      ],
      "text/plain": [
       "                   CASEID V000    V001\n",
       "0            000102701  1  PE6     1.0\n",
       "1            000104301  1  PE6     1.0\n",
       "2            000104801  2  PE6     1.0\n",
       "3            000104801  3  PE6     1.0\n",
       "4            000105001  3  PE6     1.0\n",
       "...                   ...  ...     ...\n",
       "36650        317503501  2  PE6  3175.0\n",
       "36651        317503701  2  PE6  3175.0\n",
       "36652        317507601  1  PE6  3175.0\n",
       "36653        317507801  2  PE6  3175.0\n",
       "36654        317508001  2  PE6  3175.0\n",
       "\n",
       "[36655 rows x 3 columns]"
      ]
     },
     "execution_count": 152,
     "metadata": {},
     "output_type": "execute_result"
    }
   ],
   "source": [
    "import_sav_endes(file_path1, list1_sel)"
   ]
  },
  {
   "cell_type": "code",
   "execution_count": null,
   "id": "470eb12d",
   "metadata": {},
   "outputs": [],
   "source": []
  }
 ],
 "metadata": {
  "kernelspec": {
   "display_name": "Python 3 (ipykernel)",
   "language": "python",
   "name": "python3"
  },
  "language_info": {
   "codemirror_mode": {
    "name": "ipython",
    "version": 3
   },
   "file_extension": ".py",
   "mimetype": "text/x-python",
   "name": "python",
   "nbconvert_exporter": "python",
   "pygments_lexer": "ipython3",
   "version": "3.11.5"
  }
 },
 "nbformat": 4,
 "nbformat_minor": 5
}
