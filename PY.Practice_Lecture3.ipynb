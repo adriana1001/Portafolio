{
 "cells": [
  {
   "cell_type": "markdown",
   "id": "156132f4",
   "metadata": {},
   "source": [
    "# Practicing Pandas\n",
    "\n",
    "In this [folder link](https://www.dropbox.com/scl/fo/bb8ocbj96hmuxiny4vevj/h?rlkey=lbimln5q4bdad7qtaevhgfaki&dl=0), we have area dedicated for agriculture production for India at state, crop, district, season and year level. It includes the year, the season in which crops were grown, area harvested (in hectares), production (in tonnes), and yield (tonnes per hectare).\n",
    "\n",
    "\n",
    "**Tasks:**\n",
    "\n",
    "1. Data Cleaning:\n",
    "\n",
    "Remove any irrelevant rows or columns that do not contribute to the analysis.\n",
    "Check for any missing or inconsistent data entries and address them appropriately.\n",
    "\n",
    "2. Data Transformation:\n",
    "\n",
    "Pivot the data to have separate columns for each crop, with rows representing each district within a state and the corresponding statistics.\n",
    "Create a hierarchical index at two levels: state and district, to allow for easy grouping and analysis at both levels.\n",
    "\n",
    "4. Data filtering\n",
    "\n",
    "Get the rows with total information \n",
    "\n",
    "5. Aggregation:\n",
    "\n",
    "Calculate the total area dedicated for agriculture state, district, crop and year level. \n",
    "\n",
    "6. Checking results\n",
    "\n",
    "To be sure that your proceeding is correct you are going to summarise at state and crop level, an you are going to check manually with 5 crops and in 5 different years randomly."
   ]
  }
 ],
 "metadata": {
  "kernelspec": {
   "display_name": "Python 3 (ipykernel)",
   "language": "python",
   "name": "python3"
  },
  "language_info": {
   "codemirror_mode": {
    "name": "ipython",
    "version": 3
   },
   "file_extension": ".py",
   "mimetype": "text/x-python",
   "name": "python",
   "nbconvert_exporter": "python",
   "pygments_lexer": "ipython3",
   "version": "3.11.4"
  }
 },
 "nbformat": 4,
 "nbformat_minor": 5
}
