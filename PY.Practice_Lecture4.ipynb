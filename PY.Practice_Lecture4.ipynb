{
 "cells": [
  {
   "cell_type": "markdown",
   "id": "127c98aa",
   "metadata": {},
   "source": [
    "# Exploring with Pandas and SAV files"
   ]
  },
  {
   "cell_type": "markdown",
   "id": "6d5af913",
   "metadata": {},
   "source": [
    "1. Explore Endes `RECH1.SAV` file. It is located in this path `Diplomado_PUCP/_data/endes/2015/RECH1.SAV`."
   ]
  },
  {
   "cell_type": "code",
   "execution_count": 8,
   "id": "5f30b23d",
   "metadata": {},
   "outputs": [],
   "source": [
    "import pandas as pd"
   ]
  },
  {
   "cell_type": "code",
   "execution_count": null,
   "id": "a84ee096",
   "metadata": {},
   "outputs": [],
   "source": [
    "import pyreadstat\n",
    "\n",
    "# Replace 'your_file.sav' with the path to your SPSS file\n",
    "file_path = '/Users/ar8787/Documents/GitHub/Diplomado_PUCP/_data/endes/2015/RECH1.SAV'\n",
    "\n",
    "# Read the SPSS file\n",
    "df, meta = pyreadstat.read_sav(file_path)\n",
    "\n",
    "# Display the data\n",
    "print(\"Data:\")\n",
    "print(df.head())\n",
    "\n",
    "# Display the metadata\n",
    "print(\"\\nMetadata:\")\n",
    "print(meta)\n"
   ]
  },
  {
   "cell_type": "code",
   "execution_count": null,
   "id": "7016fbec",
   "metadata": {},
   "outputs": [],
   "source": [
    "meta.variable_value_labels"
   ]
  },
  {
   "cell_type": "code",
   "execution_count": null,
   "id": "baddef80",
   "metadata": {},
   "outputs": [],
   "source": [
    "meta.column_names_to_labels"
   ]
  },
  {
   "cell_type": "markdown",
   "id": "4ac826ef",
   "metadata": {},
   "source": [
    "2. Import all the RECH1.SAV files from all the subfolder located in this folder. `Diplomado_PUCP/_data/endes`"
   ]
  },
  {
   "cell_type": "markdown",
   "id": "9aaade26",
   "metadata": {},
   "source": [
    "Doing one by one"
   ]
  },
  {
   "cell_type": "code",
   "execution_count": null,
   "id": "fab2640e",
   "metadata": {
    "scrolled": false
   },
   "outputs": [],
   "source": [
    "import numpy as np\n",
    "\n",
    "np.arange(2015, 2020)\n",
    "\n",
    "df2015 = pd.read_spss('/Users/ar8787/Documents/GitHub/Diplomado_PUCP/_data/endes/2015/RECH1.SAV')\n",
    "\n",
    "df2015.loc[ :, 'year_sample'] = 2015\n",
    "\n",
    "df2016 = pd.read_spss('/Users/ar8787/Documents/GitHub/Diplomado_PUCP/_data/endes/2016/RECH1.SAV')\n",
    "\n",
    "df2016.loc[ :, 'year_sample'] = 2016\n",
    "\n",
    "df2017 = pd.read_spss('/Users/ar8787/Documents/GitHub/Diplomado_PUCP/_data/endes/2017/RECH1.SAV')\n",
    "\n",
    "df2017.loc[ :, 'year_sample'] = 2017"
   ]
  },
  {
   "cell_type": "code",
   "execution_count": 13,
   "id": "30b674ca",
   "metadata": {},
   "outputs": [],
   "source": [
    "# append data\n",
    "df_app = pd.concat([df2015, df2016, df2017])"
   ]
  },
  {
   "cell_type": "markdown",
   "id": "0dba5507",
   "metadata": {},
   "source": [
    "Using a loop"
   ]
  },
  {
   "cell_type": "code",
   "execution_count": null,
   "id": "b3e36bc5",
   "metadata": {},
   "outputs": [],
   "source": [
    "import pandas as pd\n",
    "\n",
    "years = np.arange(2015, 2020)\n",
    "dfs = []\n",
    "\n",
    "for year in years:\n",
    "    file_path = f'/Users/ar8787/Documents/GitHub/Diplomado_PUCP/_data/endes/{year}/RECH1.SAV'\n",
    "    df = pd.read_spss(file_path)\n",
    "    df['year_sample'] = year\n",
    "    dfs.append(df)\n",
    "\n",
    "# Concatenate the DataFrames for different years into a single DataFrame\n",
    "result_df = pd.concat(dfs, ignore_index=True)\n"
   ]
  },
  {
   "cell_type": "code",
   "execution_count": null,
   "id": "12b00b00",
   "metadata": {},
   "outputs": [],
   "source": [
    "result_df"
   ]
  },
  {
   "cell_type": "code",
   "execution_count": null,
   "id": "82d2678e",
   "metadata": {},
   "outputs": [],
   "source": []
  },
  {
   "cell_type": "code",
   "execution_count": null,
   "id": "d89417a0",
   "metadata": {},
   "outputs": [],
   "source": [
    "import os\n",
    "import glob\n",
    "# If you need to read .SAV files, you might need a library like pyreadstat\n",
    "import pyreadstat\n"
   ]
  },
  {
   "cell_type": "markdown",
   "id": "0d11a1f2",
   "metadata": {},
   "source": [
    "Step 3: Navigating Directories and Finding Files\n",
    "You can use os and glob libraries to navigate through directories and find files. Here's a basic way to do it:"
   ]
  },
  {
   "cell_type": "code",
   "execution_count": null,
   "id": "3b0b0c41",
   "metadata": {},
   "outputs": [],
   "source": [
    "def find_sav_files(base_path):\n",
    "    # This pattern will match any RECH1.SAV files in subdirectories of the base path\n",
    "    pattern = os.path.join(base_path, '**', 'RECH1.SAV')\n",
    "    \n",
    "    # glob.glob will return a list of file paths matching the pattern\n",
    "    # recursive=True allows searching in subdirectories\n",
    "    return glob.glob(pattern, recursive=True)\n",
    "\n",
    "base_path = 'Diplomado_PUCP/_data/endes'\n",
    "sav_files = find_sav_files(base_path)\n",
    "print(\"Found .SAV files:\", sav_files)\n"
   ]
  },
  {
   "cell_type": "markdown",
   "id": "63ec2bd4",
   "metadata": {},
   "source": [
    "Step 4: Reading .SAV Files\n",
    "If you need to read data from these .SAV files, you can use pyreadstat. Here's a simple way to do it:"
   ]
  },
  {
   "cell_type": "code",
   "execution_count": null,
   "id": "88aece45",
   "metadata": {},
   "outputs": [],
   "source": [
    "def read_sav_file(file_path):\n",
    "    df, meta = pyreadstat.read_sav(file_path)\n",
    "    return df  # df is a DataFrame containing the data from the .SAV file\n",
    "\n",
    "# Example of reading the first found .SAV file\n",
    "if sav_files:\n",
    "    first_file_data = read_sav_file(sav_files[0])\n",
    "    print(first_file_data)\n"
   ]
  },
  {
   "cell_type": "code",
   "execution_count": 1,
   "id": "605c783e",
   "metadata": {},
   "outputs": [],
   "source": [
    "import pandas as pd"
   ]
  },
  {
   "cell_type": "markdown",
   "id": "19c44c47",
   "metadata": {},
   "source": [
    "1. We have data `MotherData.csv` excerpted from a recent Demographic and Health Survey.  First convert the dataset from `wide` (each observation is a mother) to `long` (each observation is a birth, with associated mother id). The id `caseid` identifies uniquely all the mothers.  These columns refer to variable of children **['bidx', 'bord', 'b0', 'b1', 'b2', 'b3', 'b4', 'b5', 'b6', 'b7', 'b8', 'b9', 'b10', 'b11', 'b12', 'b13', 'b15', 'b16']** and have new columns for all their children. We have information for 20 children. It starts from last child to oldest one. Use for loops to reshape this dataset from `wide` to `long` ate mother and children level. If you want to get more information from the columns please see [this pdf](http://www.dhsprogram.com/pubs/pdf/DHSG4/Recode6_DHS_22March2013_DHSG4.pdf)."
   ]
  },
  {
   "cell_type": "markdown",
   "id": "2cb18668",
   "metadata": {},
   "source": [
    "Max number of children is 20. We want data at mother, child level. From children, we only want month (b1) and year (b2) of birth (b4), and sex and have data"
   ]
  },
  {
   "cell_type": "code",
   "execution_count": 16,
   "id": "3aa92823",
   "metadata": {},
   "outputs": [
    {
     "name": "stderr",
     "output_type": "stream",
     "text": [
      "/var/folders/r4/lwrzx5hs7d3cxk4p5zsy7zqh0000gp/T/ipykernel_27652/1107978888.py:1: DtypeWarning: Columns (67,128,129,130,131,132,133,208,209,210,211,212,213,228,229,230,231,232,233,240,241,245,247,248,249,250,308,309,310,311,312,313,328,329,330,331,332,333,387,388,389,390,391,392,407,408,409,410,411,412,426,428,429,430,431,433) have mixed types. Specify dtype option on import or set low_memory=False.\n",
      "  df_mother = pd.read_csv('../_data/MotherData.csv')\n"
     ]
    }
   ],
   "source": [
    "df_mother = pd.read_csv('../_data/MotherData.csv')"
   ]
  },
  {
   "cell_type": "code",
   "execution_count": 35,
   "id": "47658cc7",
   "metadata": {},
   "outputs": [
    {
     "name": "stdout",
     "output_type": "stream",
     "text": [
      "                caseid  bord    b1      b2      b4\n",
      "0           1  1     2   7.0   3.0  2010.0    male\n",
      "1           1  1     2   6.0  11.0  2006.0  female\n",
      "2           1  1     2   5.0   1.0  2004.0  female\n",
      "3           1  1     2   4.0   3.0  1999.0  female\n",
      "4           1  1     2   3.0   6.0  1996.0  female\n",
      "...                ...   ...   ...     ...     ...\n",
      "19639     240 23     2   1.0   6.0  2007.0  female\n",
      "19640     240 24     2   4.0  10.0  2010.0    male\n",
      "19641     240 24     2   3.0  12.0  2007.0    male\n",
      "19642     240 24     2   2.0   9.0  2005.0    male\n",
      "19643     240 24     2   1.0   7.0  2000.0    male\n",
      "\n",
      "[19644 rows x 5 columns]\n"
     ]
    }
   ],
   "source": [
    "reshaped_data = []\n",
    "# Iterate through each row in the dataframe\n",
    "for index, row in df_mother.iterrows():\n",
    "    caseid = row['caseid']\n",
    "    # Iterate over the 20 sets of columns\n",
    "    for i in range(1, 21):\n",
    "        bord_col = f'bord_{i:02d}'\n",
    "        b1_col = f'b1_{i:02d}'\n",
    "        b2_col = f'b2_{i:02d}'\n",
    "        b4_col = f'b4_{i:02d}'\n",
    "        \n",
    "        # Check if bord_col is NaN, and if so, continue to the next iteration\n",
    "        if pd.isna(row[bord_col]):\n",
    "            continue\n",
    "        \n",
    "        # Append the reshaped row to the list\n",
    "        reshaped_data.append({\n",
    "            'caseid': caseid,\n",
    "            'bord': row[bord_col],\n",
    "            'b1': row[b1_col],\n",
    "            'b2': row[b2_col],\n",
    "            'b4': row[b4_col]\n",
    "        })\n",
    "\n",
    "# Convert the list to a dataframe\n",
    "reshaped_df_mother = pd.DataFrame(reshaped_data)\n",
    "print(reshaped_df_mother)"
   ]
  },
  {
   "cell_type": "code",
   "execution_count": 36,
   "id": "e58efec5",
   "metadata": {},
   "outputs": [
    {
     "data": {
      "text/html": [
       "<div>\n",
       "<style scoped>\n",
       "    .dataframe tbody tr th:only-of-type {\n",
       "        vertical-align: middle;\n",
       "    }\n",
       "\n",
       "    .dataframe tbody tr th {\n",
       "        vertical-align: top;\n",
       "    }\n",
       "\n",
       "    .dataframe thead th {\n",
       "        text-align: right;\n",
       "    }\n",
       "</style>\n",
       "<table border=\"1\" class=\"dataframe\">\n",
       "  <thead>\n",
       "    <tr style=\"text-align: right;\">\n",
       "      <th></th>\n",
       "      <th>caseid</th>\n",
       "      <th>bord</th>\n",
       "      <th>b1</th>\n",
       "      <th>b2</th>\n",
       "      <th>b4</th>\n",
       "    </tr>\n",
       "  </thead>\n",
       "  <tbody>\n",
       "    <tr>\n",
       "      <th>6</th>\n",
       "      <td>1  1     2</td>\n",
       "      <td>1.0</td>\n",
       "      <td>11.0</td>\n",
       "      <td>1987.0</td>\n",
       "      <td>female</td>\n",
       "    </tr>\n",
       "    <tr>\n",
       "      <th>5</th>\n",
       "      <td>1  1     2</td>\n",
       "      <td>2.0</td>\n",
       "      <td>6.0</td>\n",
       "      <td>1993.0</td>\n",
       "      <td>female</td>\n",
       "    </tr>\n",
       "    <tr>\n",
       "      <th>4</th>\n",
       "      <td>1  1     2</td>\n",
       "      <td>3.0</td>\n",
       "      <td>6.0</td>\n",
       "      <td>1996.0</td>\n",
       "      <td>female</td>\n",
       "    </tr>\n",
       "    <tr>\n",
       "      <th>3</th>\n",
       "      <td>1  1     2</td>\n",
       "      <td>4.0</td>\n",
       "      <td>3.0</td>\n",
       "      <td>1999.0</td>\n",
       "      <td>female</td>\n",
       "    </tr>\n",
       "    <tr>\n",
       "      <th>2</th>\n",
       "      <td>1  1     2</td>\n",
       "      <td>5.0</td>\n",
       "      <td>1.0</td>\n",
       "      <td>2004.0</td>\n",
       "      <td>female</td>\n",
       "    </tr>\n",
       "    <tr>\n",
       "      <th>...</th>\n",
       "      <td>...</td>\n",
       "      <td>...</td>\n",
       "      <td>...</td>\n",
       "      <td>...</td>\n",
       "      <td>...</td>\n",
       "    </tr>\n",
       "    <tr>\n",
       "      <th>19639</th>\n",
       "      <td>240 23     2</td>\n",
       "      <td>1.0</td>\n",
       "      <td>6.0</td>\n",
       "      <td>2007.0</td>\n",
       "      <td>female</td>\n",
       "    </tr>\n",
       "    <tr>\n",
       "      <th>19643</th>\n",
       "      <td>240 24     2</td>\n",
       "      <td>1.0</td>\n",
       "      <td>7.0</td>\n",
       "      <td>2000.0</td>\n",
       "      <td>male</td>\n",
       "    </tr>\n",
       "    <tr>\n",
       "      <th>19642</th>\n",
       "      <td>240 24     2</td>\n",
       "      <td>2.0</td>\n",
       "      <td>9.0</td>\n",
       "      <td>2005.0</td>\n",
       "      <td>male</td>\n",
       "    </tr>\n",
       "    <tr>\n",
       "      <th>19641</th>\n",
       "      <td>240 24     2</td>\n",
       "      <td>3.0</td>\n",
       "      <td>12.0</td>\n",
       "      <td>2007.0</td>\n",
       "      <td>male</td>\n",
       "    </tr>\n",
       "    <tr>\n",
       "      <th>19640</th>\n",
       "      <td>240 24     2</td>\n",
       "      <td>4.0</td>\n",
       "      <td>10.0</td>\n",
       "      <td>2010.0</td>\n",
       "      <td>male</td>\n",
       "    </tr>\n",
       "  </tbody>\n",
       "</table>\n",
       "<p>19644 rows × 5 columns</p>\n",
       "</div>"
      ],
      "text/plain": [
       "                caseid  bord    b1      b2      b4\n",
       "6           1  1     2   1.0  11.0  1987.0  female\n",
       "5           1  1     2   2.0   6.0  1993.0  female\n",
       "4           1  1     2   3.0   6.0  1996.0  female\n",
       "3           1  1     2   4.0   3.0  1999.0  female\n",
       "2           1  1     2   5.0   1.0  2004.0  female\n",
       "...                ...   ...   ...     ...     ...\n",
       "19639     240 23     2   1.0   6.0  2007.0  female\n",
       "19643     240 24     2   1.0   7.0  2000.0    male\n",
       "19642     240 24     2   2.0   9.0  2005.0    male\n",
       "19641     240 24     2   3.0  12.0  2007.0    male\n",
       "19640     240 24     2   4.0  10.0  2010.0    male\n",
       "\n",
       "[19644 rows x 5 columns]"
      ]
     },
     "execution_count": 36,
     "metadata": {},
     "output_type": "execute_result"
    }
   ],
   "source": [
    "reshaped_df_mother.sort_values( ['caseid', 'bord' ] )"
   ]
  },
  {
   "cell_type": "code",
   "execution_count": 39,
   "id": "c575478a",
   "metadata": {},
   "outputs": [],
   "source": [
    "\n",
    "# Use pandas wide_to_long function\n",
    "df_mother_long = pd.wide_to_long(df_mother, stubnames=['bord', 'b1', 'b2', 'b4'], i='caseid', j='index', sep='_', suffix='\\\\d+')\n",
    "\n",
    "# Reset the index to get a flat dataframe\n",
    "df_mother_long = df_mother_long.reset_index()\n",
    "\n",
    "# Drop rows where 'bord' is NaN\n",
    "df_mother_long = df_mother_long.dropna(subset=['bord'])\n"
   ]
  },
  {
   "cell_type": "code",
   "execution_count": 41,
   "id": "a648bf09",
   "metadata": {},
   "outputs": [
    {
     "data": {
      "text/html": [
       "<div>\n",
       "<style scoped>\n",
       "    .dataframe tbody tr th:only-of-type {\n",
       "        vertical-align: middle;\n",
       "    }\n",
       "\n",
       "    .dataframe tbody tr th {\n",
       "        vertical-align: top;\n",
       "    }\n",
       "\n",
       "    .dataframe thead th {\n",
       "        text-align: right;\n",
       "    }\n",
       "</style>\n",
       "<table border=\"1\" class=\"dataframe\">\n",
       "  <thead>\n",
       "    <tr style=\"text-align: right;\">\n",
       "      <th></th>\n",
       "      <th>caseid</th>\n",
       "      <th>bord</th>\n",
       "      <th>b1</th>\n",
       "      <th>b2</th>\n",
       "      <th>b4</th>\n",
       "    </tr>\n",
       "  </thead>\n",
       "  <tbody>\n",
       "    <tr>\n",
       "      <th>38064</th>\n",
       "      <td>1  1     2</td>\n",
       "      <td>1.0</td>\n",
       "      <td>11.0</td>\n",
       "      <td>1987.0</td>\n",
       "      <td>female</td>\n",
       "    </tr>\n",
       "    <tr>\n",
       "      <th>31720</th>\n",
       "      <td>1  1     2</td>\n",
       "      <td>2.0</td>\n",
       "      <td>6.0</td>\n",
       "      <td>1993.0</td>\n",
       "      <td>female</td>\n",
       "    </tr>\n",
       "    <tr>\n",
       "      <th>25376</th>\n",
       "      <td>1  1     2</td>\n",
       "      <td>3.0</td>\n",
       "      <td>6.0</td>\n",
       "      <td>1996.0</td>\n",
       "      <td>female</td>\n",
       "    </tr>\n",
       "    <tr>\n",
       "      <th>19032</th>\n",
       "      <td>1  1     2</td>\n",
       "      <td>4.0</td>\n",
       "      <td>3.0</td>\n",
       "      <td>1999.0</td>\n",
       "      <td>female</td>\n",
       "    </tr>\n",
       "    <tr>\n",
       "      <th>12688</th>\n",
       "      <td>1  1     2</td>\n",
       "      <td>5.0</td>\n",
       "      <td>1.0</td>\n",
       "      <td>2004.0</td>\n",
       "      <td>female</td>\n",
       "    </tr>\n",
       "    <tr>\n",
       "      <th>...</th>\n",
       "      <td>...</td>\n",
       "      <td>...</td>\n",
       "      <td>...</td>\n",
       "      <td>...</td>\n",
       "      <td>...</td>\n",
       "    </tr>\n",
       "    <tr>\n",
       "      <th>6341</th>\n",
       "      <td>240 23     2</td>\n",
       "      <td>1.0</td>\n",
       "      <td>6.0</td>\n",
       "      <td>2007.0</td>\n",
       "      <td>female</td>\n",
       "    </tr>\n",
       "    <tr>\n",
       "      <th>25374</th>\n",
       "      <td>240 24     2</td>\n",
       "      <td>1.0</td>\n",
       "      <td>7.0</td>\n",
       "      <td>2000.0</td>\n",
       "      <td>male</td>\n",
       "    </tr>\n",
       "    <tr>\n",
       "      <th>19030</th>\n",
       "      <td>240 24     2</td>\n",
       "      <td>2.0</td>\n",
       "      <td>9.0</td>\n",
       "      <td>2005.0</td>\n",
       "      <td>male</td>\n",
       "    </tr>\n",
       "    <tr>\n",
       "      <th>12686</th>\n",
       "      <td>240 24     2</td>\n",
       "      <td>3.0</td>\n",
       "      <td>12.0</td>\n",
       "      <td>2007.0</td>\n",
       "      <td>male</td>\n",
       "    </tr>\n",
       "    <tr>\n",
       "      <th>6342</th>\n",
       "      <td>240 24     2</td>\n",
       "      <td>4.0</td>\n",
       "      <td>10.0</td>\n",
       "      <td>2010.0</td>\n",
       "      <td>male</td>\n",
       "    </tr>\n",
       "  </tbody>\n",
       "</table>\n",
       "<p>19644 rows × 5 columns</p>\n",
       "</div>"
      ],
      "text/plain": [
       "                caseid  bord    b1      b2      b4\n",
       "38064       1  1     2   1.0  11.0  1987.0  female\n",
       "31720       1  1     2   2.0   6.0  1993.0  female\n",
       "25376       1  1     2   3.0   6.0  1996.0  female\n",
       "19032       1  1     2   4.0   3.0  1999.0  female\n",
       "12688       1  1     2   5.0   1.0  2004.0  female\n",
       "...                ...   ...   ...     ...     ...\n",
       "6341      240 23     2   1.0   6.0  2007.0  female\n",
       "25374     240 24     2   1.0   7.0  2000.0    male\n",
       "19030     240 24     2   2.0   9.0  2005.0    male\n",
       "12686     240 24     2   3.0  12.0  2007.0    male\n",
       "6342      240 24     2   4.0  10.0  2010.0    male\n",
       "\n",
       "[19644 rows x 5 columns]"
      ]
     },
     "execution_count": 41,
     "metadata": {},
     "output_type": "execute_result"
    }
   ],
   "source": [
    "df_mother_long.loc[ :, ['caseid', 'bord', 'b1', 'b2', 'b4']].sort_values( ['caseid', 'bord' ] )"
   ]
  }
 ],
 "metadata": {
  "kernelspec": {
   "display_name": "Python 3 (ipykernel)",
   "language": "python",
   "name": "python3"
  },
  "language_info": {
   "codemirror_mode": {
    "name": "ipython",
    "version": 3
   },
   "file_extension": ".py",
   "mimetype": "text/x-python",
   "name": "python",
   "nbconvert_exporter": "python",
   "pygments_lexer": "ipython3",
   "version": "3.11.4"
  }
 },
 "nbformat": 4,
 "nbformat_minor": 5
}
